{
 "cells": [
  {
   "cell_type": "markdown",
   "metadata": {},
   "source": [
    "# 1."
   ]
  },
  {
   "cell_type": "code",
   "execution_count": 2,
   "metadata": {},
   "outputs": [],
   "source": [
    "import numpy as np"
   ]
  },
  {
   "cell_type": "code",
   "execution_count": 6,
   "metadata": {},
   "outputs": [
    {
     "name": "stdout",
     "output_type": "stream",
     "text": [
      "enter row:2\n",
      "enter columns:3\n",
      "enter elements row wise:\n",
      "1\n",
      "2\n",
      "3\n",
      "4\n",
      "5\n",
      "6\n",
      "alternate sum:  9\n"
     ]
    }
   ],
   "source": [
    "def altSum(arr):\n",
    "    sumEle=0\n",
    "    for i in range(len(arr)):\n",
    "        for j in range(len(arr[i])):\n",
    "            if (i+j)% 2==0:\n",
    "                sumEle+=arr[i][j]\n",
    "    return sumEle\n",
    "row=int(input(\"enter row:\"))\n",
    "column=int(input(\"enter columns:\"))\n",
    "arr=np.zeros((row,column),int)\n",
    "print(\"enter elements row wise:\")\n",
    "for i in range(row):\n",
    "    for j in range(column):\n",
    "        arr[i][j]=int(input())\n",
    "        \n",
    "sumEle=altSum(arr)\n",
    "print(\"alternate sum: \", sumEle)"
   ]
  },
  {
   "cell_type": "markdown",
   "metadata": {},
   "source": [
    "# 2"
   ]
  },
  {
   "cell_type": "code",
   "execution_count": 7,
   "metadata": {},
   "outputs": [
    {
     "name": "stdout",
     "output_type": "stream",
     "text": [
      "enter row:2\n",
      "enter columns:2\n",
      "enter elements row wise:\n",
      "1\n",
      "2\n",
      "3\n",
      "4\n",
      "even value:  [2, 4]\n"
     ]
    }
   ],
   "source": [
    "def evenval(arr1):\n",
    "    lst=[]\n",
    "    for i in range(len(arr)):\n",
    "        for j in range(len(arr[i])):\n",
    "            if arr[i][j]%2==0:\n",
    "                lst.append(arr[i][j])\n",
    "                \n",
    "    return lst\n",
    "row=int(input(\"enter row:\"))\n",
    "column=int(input(\"enter columns:\"))\n",
    "arr=np.zeros((row,column),int)\n",
    "print(\"enter elements row wise:\")\n",
    "for i in range(row):\n",
    "    for j in range(column):\n",
    "        arr[i][j]=int(input())\n",
    "        \n",
    "lst=evenval(arr)\n",
    "print(\"even value: \", lst)\n",
    "    "
   ]
  },
  {
   "cell_type": "markdown",
   "metadata": {},
   "source": [
    "# 3"
   ]
  },
  {
   "cell_type": "code",
   "execution_count": 8,
   "metadata": {},
   "outputs": [
    {
     "name": "stdout",
     "output_type": "stream",
     "text": [
      "enter row:2\n",
      "enter columns:3\n",
      "enter elements row wise:\n",
      "1\n",
      "2\n",
      "3\n",
      "4\n",
      "5\n",
      "6\n",
      "[2, 3, 5]\n"
     ]
    }
   ],
   "source": [
    "def is_prime(num):\n",
    "    if num <= 1:\n",
    "        return False\n",
    "    for i in range(2, int(num**0.5) + 1):\n",
    "        if num % i == 0:\n",
    "            return False\n",
    "    return True\n",
    "\n",
    "def find_primes(arr):\n",
    "    primes = []\n",
    "    for row in arr:\n",
    "        for num in row:\n",
    "            if is_prime(num):\n",
    "                primes.append(num)\n",
    "    return primes\n",
    "row=int(input(\"enter row:\"))\n",
    "column=int(input(\"enter columns:\"))\n",
    "arr=np.zeros((row,column),int)\n",
    "print(\"enter elements row wise:\")\n",
    "for i in range(row):\n",
    "    for j in range(column):\n",
    "        arr[i][j]=int(input())\n",
    "        \n",
    "prime=find_primes(arr)\n",
    "print(prime)\n",
    "        "
   ]
  },
  {
   "cell_type": "markdown",
   "metadata": {},
   "source": [
    "# 4."
   ]
  },
  {
   "cell_type": "code",
   "execution_count": 23,
   "metadata": {},
   "outputs": [
    {
     "name": "stdout",
     "output_type": "stream",
     "text": [
      "[[6 8 2 0 7]\n",
      " [5 7 0 2 7]\n",
      " [1 6 0 1 9]\n",
      " [3 9 8 2 2]\n",
      " [0 1 7 0 7]]\n",
      "max value  [6, 7, 8, 5, 7]\n"
     ]
    }
   ],
   "source": [
    "arr = np.random.randint(0, 10, size=(5, 5))\n",
    "def maxval(arr):\n",
    "    lst=[]\n",
    "    for i in range(5):\n",
    "        lst.append(np.max(arr[i]))\n",
    "    return lst\n",
    "print(arr)\n",
    "print(\"max value \", lst)"
   ]
  },
  {
   "cell_type": "code",
   "execution_count": 13,
   "metadata": {},
   "outputs": [
    {
     "name": "stdout",
     "output_type": "stream",
     "text": [
      "2\n"
     ]
    }
   ],
   "source": [
    "print(np.random.randint(5))"
   ]
  },
  {
   "cell_type": "markdown",
   "metadata": {},
   "source": [
    "# 5."
   ]
  },
  {
   "cell_type": "code",
   "execution_count": 10,
   "metadata": {},
   "outputs": [
    {
     "name": "stdout",
     "output_type": "stream",
     "text": [
      "enter row:4\n",
      "enter columns:4\n",
      "enter elements row wise:\n",
      "1\n",
      "2\n",
      "3\n",
      "4\n",
      "1\n",
      "2\n",
      "3\n",
      "4\n",
      "1\n",
      "2\n",
      "3\n",
      "4\n",
      "4\n",
      "3\n",
      "2\n",
      "1\n",
      "[[1 2 3 4]\n",
      " [1 2 3 4]\n",
      " [1 2 3 4]\n",
      " [4 3 2 1]]\n",
      "[2, 3, 2, 3]\n"
     ]
    }
   ],
   "source": [
    "def cornEle(arr):\n",
    "    lst=[]\n",
    "    for i in range(len(arr)):\n",
    "        for j in range(len(arr[i])):\n",
    "            if i!=0 and j!=0 and i!=row-1 and j!=column-1:\n",
    "                lst.append(arr[i][j])\n",
    "    return lst\n",
    "\n",
    "row=int(input(\"enter row:\"))\n",
    "column=int(input(\"enter columns:\"))\n",
    "arr=np.zeros((row,column),int)\n",
    "print(\"enter elements row wise:\")\n",
    "for i in range(row):\n",
    "    for j in range(column):\n",
    "        arr[i][j]=int(input())\n",
    "        \n",
    "cornEle=cornEle(arr)\n",
    "print(arr)\n",
    "print(cornEle)\n",
    "\n"
   ]
  },
  {
   "cell_type": "markdown",
   "metadata": {},
   "source": [
    "# 6."
   ]
  },
  {
   "cell_type": "code",
   "execution_count": 18,
   "metadata": {},
   "outputs": [
    {
     "name": "stdout",
     "output_type": "stream",
     "text": [
      "enter row:1\n",
      "enter columns:1\n",
      "enter elements row wise:\n",
      "\n"
     ]
    },
    {
     "ename": "ValueError",
     "evalue": "invalid literal for int() with base 10: ''",
     "output_type": "error",
     "traceback": [
      "\u001b[0;31m---------------------------------------------------------------------------\u001b[0m",
      "\u001b[0;31mValueError\u001b[0m                                Traceback (most recent call last)",
      "\u001b[0;32m<ipython-input-18-0d39b0f959c1>\u001b[0m in \u001b[0;36m<module>\u001b[0;34m\u001b[0m\n\u001b[1;32m      9\u001b[0m \u001b[0;32mfor\u001b[0m \u001b[0mi\u001b[0m \u001b[0;32min\u001b[0m \u001b[0mrange\u001b[0m\u001b[0;34m(\u001b[0m\u001b[0mrow\u001b[0m\u001b[0;34m)\u001b[0m\u001b[0;34m:\u001b[0m\u001b[0;34m\u001b[0m\u001b[0;34m\u001b[0m\u001b[0m\n\u001b[1;32m     10\u001b[0m     \u001b[0;32mfor\u001b[0m \u001b[0mj\u001b[0m \u001b[0;32min\u001b[0m \u001b[0mrange\u001b[0m\u001b[0;34m(\u001b[0m\u001b[0mcolumn\u001b[0m\u001b[0;34m)\u001b[0m\u001b[0;34m:\u001b[0m\u001b[0;34m\u001b[0m\u001b[0;34m\u001b[0m\u001b[0m\n\u001b[0;32m---> 11\u001b[0;31m         \u001b[0marr1\u001b[0m\u001b[0;34m[\u001b[0m\u001b[0mi\u001b[0m\u001b[0;34m]\u001b[0m\u001b[0;34m[\u001b[0m\u001b[0mj\u001b[0m\u001b[0;34m]\u001b[0m\u001b[0;34m=\u001b[0m\u001b[0mint\u001b[0m\u001b[0;34m(\u001b[0m\u001b[0minput\u001b[0m\u001b[0;34m(\u001b[0m\u001b[0;34m)\u001b[0m\u001b[0;34m)\u001b[0m\u001b[0;34m\u001b[0m\u001b[0;34m\u001b[0m\u001b[0m\n\u001b[0m\u001b[1;32m     12\u001b[0m         \u001b[0marr2\u001b[0m\u001b[0;34m[\u001b[0m\u001b[0mi\u001b[0m\u001b[0;34m]\u001b[0m\u001b[0;34m[\u001b[0m\u001b[0mj\u001b[0m\u001b[0;34m]\u001b[0m\u001b[0;34m=\u001b[0m\u001b[0mint\u001b[0m\u001b[0;34m(\u001b[0m\u001b[0minput\u001b[0m\u001b[0;34m(\u001b[0m\u001b[0;34m)\u001b[0m\u001b[0;34m)\u001b[0m\u001b[0;34m\u001b[0m\u001b[0;34m\u001b[0m\u001b[0m\n\u001b[1;32m     13\u001b[0m \u001b[0;34m\u001b[0m\u001b[0m\n",
      "\u001b[0;31mValueError\u001b[0m: invalid literal for int() with base 10: ''"
     ]
    }
   ],
   "source": [
    "def comEle(arr1,arr2):\n",
    "    return np.intersect1d(arr1,arr2)\n",
    "\n",
    "row=int(input(\"enter row:\"))\n",
    "column=int(input(\"enter columns:\"))\n",
    "arr1=np.zeros((row,column),int)\n",
    "arr2=np.zeros((row,column),int)\n",
    "print(\"enter elements row wise:\")\n",
    "for i in range(row):\n",
    "    for j in range(column):\n",
    "        arr1[i][j]=int(input())\n",
    "        arr2[i][j]=int(input())\n",
    "        \n",
    "cornEle=comEle(arr1,arr2)\n",
    "print(arr1,arr2)\n",
    "print(cornEle)"
   ]
  },
  {
   "cell_type": "markdown",
   "metadata": {},
   "source": [
    "# 7."
   ]
  },
  {
   "cell_type": "code",
   "execution_count": 21,
   "metadata": {},
   "outputs": [
    {
     "name": "stdout",
     "output_type": "stream",
     "text": [
      "enter row:2\n",
      "enter columns:2\n",
      "enter elements row wise:\n",
      "1\n",
      "2\n",
      "3\n",
      "4\n",
      "2\n",
      "[[1 2]\n",
      " [2 2]]\n",
      "<function thresh at 0x7fc96141aa60>\n"
     ]
    }
   ],
   "source": [
    "def thresh(arr):\n",
    "    thrval=int(input())\n",
    "    for i in range(len(arr)):\n",
    "        for j in range(len(arr[i])):\n",
    "            if arr[i][j]>=thrval:\n",
    "                arr[i][j]=thrval\n",
    "                \n",
    "    return arr\n",
    "                \n",
    "\n",
    "row=int(input(\"enter row:\"))\n",
    "column=int(input(\"enter columns:\"))\n",
    "arr=np.zeros((row,column),int)\n",
    "print(\"enter elements row wise:\")\n",
    "for i in range(row):\n",
    "    for j in range(column):\n",
    "        arr[i][j]=int(input())\n",
    "        \n",
    "thresh1=thresh(arr)\n",
    "print(arr)\n",
    "print(thresh1)"
   ]
  },
  {
   "cell_type": "markdown",
   "metadata": {},
   "source": [
    "# 8."
   ]
  },
  {
   "cell_type": "code",
   "execution_count": 26,
   "metadata": {},
   "outputs": [
    {
     "name": "stdout",
     "output_type": "stream",
     "text": [
      "enter row:3\n",
      "enter columns:3\n",
      "enter elements row wise:\n",
      "1\n",
      "2\n",
      "3\n",
      "4\n",
      "5\n",
      "6\n",
      "7\n",
      "8\n",
      "9\n",
      "[[1 2 3]\n",
      " [4 5 6]\n",
      " [7 8 9]]\n",
      "19\n"
     ]
    }
   ],
   "source": [
    "def sumDig(arr):\n",
    "    sum=0\n",
    "    for i in range(len(arr)):\n",
    "        for j in range(len(arr[i])):\n",
    "            if j<i:\n",
    "                sum+=arr[i][j]\n",
    "                \n",
    "    return sum\n",
    "                \n",
    "\n",
    "row=int(input(\"enter row:\"))\n",
    "column=int(input(\"enter columns:\"))\n",
    "arr=np.zeros((row,column),int)\n",
    "print(\"enter elements row wise:\")\n",
    "for i in range(row):\n",
    "    for j in range(column):\n",
    "        arr[i][j]=int(input())\n",
    "        \n",
    "sumDig=sumDig(arr)\n",
    "print(arr)\n",
    "print(sumDig)"
   ]
  },
  {
   "cell_type": "markdown",
   "metadata": {},
   "source": [
    "# 9."
   ]
  },
  {
   "cell_type": "markdown",
   "metadata": {},
   "source": [
    "# 10."
   ]
  },
  {
   "cell_type": "code",
   "execution_count": 28,
   "metadata": {},
   "outputs": [
    {
     "name": "stdout",
     "output_type": "stream",
     "text": [
      "enter row:3\n",
      "enter columns:3\n",
      "enter elements row wise:\n",
      "1\n",
      "2\n",
      "3\n",
      "4\n",
      "5\n",
      "6\n",
      "2\n",
      "1\n",
      "3\n",
      "[[1 2 3]\n",
      " [4 5 6]\n",
      " [2 1 3]]\n",
      "{1: 2, 2: 2, 3: 2, 4: 1, 5: 1, 6: 1}\n"
     ]
    }
   ],
   "source": [
    "def count_unique(arr):\n",
    "    frequency_dict = {}\n",
    "    for row in arr:\n",
    "        for element in row:\n",
    "            if element in frequency_dict:\n",
    "                frequency_dict[element] += 1\n",
    "            else:\n",
    "                frequency_dict[element] = 1\n",
    "    return frequency_dict\n",
    "\n",
    "row=int(input(\"enter row:\"))\n",
    "column=int(input(\"enter columns:\"))\n",
    "arr=np.zeros((row,column),int)\n",
    "print(\"enter elements row wise:\")\n",
    "for i in range(row):\n",
    "    for j in range(column):\n",
    "        arr[i][j]=int(input())\n",
    "        \n",
    "count_unique=count_unique(arr)\n",
    "print(arr)\n",
    "print(count_unique)"
   ]
  },
  {
   "cell_type": "markdown",
   "metadata": {},
   "source": []
  }
 ],
 "metadata": {
  "kernelspec": {
   "display_name": "Python 3",
   "language": "python",
   "name": "python3"
  },
  "language_info": {
   "codemirror_mode": {
    "name": "ipython",
    "version": 3
   },
   "file_extension": ".py",
   "mimetype": "text/x-python",
   "name": "python",
   "nbconvert_exporter": "python",
   "pygments_lexer": "ipython3",
   "version": "3.8.10"
  }
 },
 "nbformat": 4,
 "nbformat_minor": 4
}
